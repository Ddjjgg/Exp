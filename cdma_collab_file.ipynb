{
  "nbformat": 4,
  "nbformat_minor": 0,
  "metadata": {
    "colab": {
      "provenance": []
    },
    "kernelspec": {
      "name": "python3",
      "display_name": "Python 3"
    },
    "language_info": {
      "name": "python"
    }
  },
  "cells": [
    {
      "cell_type": "code",
      "source": [
        "import numpy as np\n",
        "c1=[1,1,1,1]\n",
        "c2=[1,-1,1,-1]\n",
        "c3=[1,1,-1,-1]\n",
        "c4=[1,-1,-1,1]\n",
        "rc=[]\n",
        "print(\"Enter the data bits :\")\n",
        "d1=int(input(\"Enter D1 :\"))\n",
        "d2=int(input(\"Enter D2 :\"))\n",
        "d3=int(input(\"Enter D3 :\"))\n",
        "d4=int(input(\"Enter D4 :\"))\n",
        "r1=np.multiply(c1,d1)\n",
        "r2=np.multiply(c2,d2)\n",
        "r3=np.multiply(c3,d3)\n",
        "r4=np.multiply(c4,d4)\n",
        "resultant_channel=r1+r2+r3+r4;\n",
        "print(\"Resultant Channel\",resultant_channel)\n",
        "Channel=int(input(\"Enter the station to listen for C1=1 ,C2=2, C3=3 C4=4 : \"))\n",
        "if Channel==1:\n",
        "  rc=c1\n",
        "elif Channel==2:\n",
        "  rc=c2\n",
        "elif Channel==3:\n",
        "  rc=c3\n",
        "elif Channel==4:\n",
        "  rc=c4\n",
        "inner_product=np.multiply(resultant_channel,rc)\n",
        "print(\"Inner Product\",inner_product)\n",
        "res1=sum(inner_product)\n",
        "data=res1/len(inner_product)\n",
        "print(\"Data bit that was sent\",data)\n"
      ],
      "metadata": {
        "colab": {
          "base_uri": "https://localhost:8080/"
        },
        "id": "X2fxFt5VZUos",
        "outputId": "cfbbfd5b-c656-4666-f600-404cae9ff8ef"
      },
      "execution_count": null,
      "outputs": [
        {
          "output_type": "stream",
          "name": "stdout",
          "text": [
            "Enter the data bits :\n",
            "Enter D1 :12\n",
            "Enter D2 :10\n",
            "Enter D3 :15\n",
            "Enter D4 :17\n",
            "Resultant Channel [ 54   0 -10   4]\n",
            "Enter the station to listen for C1=1 ,C2=2, C3=3 C4=4 : 2\n",
            "Inner Product [ 54   0 -10  -4]\n",
            "Data bit that was sent 10.0\n"
          ]
        }
      ]
    },
    {
      "cell_type": "code",
      "source": [
        "c1 = [1,1,1,1];\n",
        "c2 = [1,-1,1,-1];\n",
        "c3 = [1,1,-1,-1];\n",
        "c4 = [1,-1,-1,1];\n",
        "rc = [];\n",
        "\n",
        "printf(\"Enter the data bits :\\n\");\n",
        "d1 = input(\"Enter D1 :\");\n",
        "d2 = input(\"Enter D2 :\");\n",
        "d3 = input(\"Enter D3 :\");\n",
        "d4 = input(\"Enter D4 :\");\n",
        "\n",
        "r1 = c1 * d1;\n",
        "r2 = c2 * d2;\n",
        "r3 = c3 * d3;\n",
        "r4 = c4 * d4;\n",
        "\n",
        "resultant_channel = r1 + r2 + r3 + r4;\n",
        "printf(\"Resultant Channel: %s\\n\", mat2str(resultant_channel));\n",
        "\n",
        "Channel = input(\"Enter the station to listen for C1=1 ,C2=2, C3=3 C4=4 : \");\n",
        "if Channel == 1\n",
        "    rc = c1;\n",
        "elseif Channel == 2\n",
        "    rc = c2;\n",
        "elseif Channel == 3\n",
        "    rc = c3;\n",
        "elseif Channel == 4\n",
        "    rc = c4;\n",
        "end\n",
        "\n",
        "inner_product = resultant_channel .* rc;\n",
        "printf(\"Inner Product: %s\\n\", mat2str(inner_product));\n",
        "\n",
        "res1 = sum(inner_product);\n",
        "data = res1 / length(inner_product);\n",
        "printf(\"Data bit that was sent: %f\\n\", data);"
      ],
      "metadata": {
        "colab": {
          "base_uri": "https://localhost:8080/",
          "height": 106
        },
        "id": "E2LqX3JCEj2w",
        "outputId": "c0ef497a-35dc-4964-810a-e735fb15c4a5"
      },
      "execution_count": null,
      "outputs": [
        {
          "output_type": "error",
          "ename": "SyntaxError",
          "evalue": "expected ':' (<ipython-input-1-841fae561513>, line 22)",
          "traceback": [
            "\u001b[0;36m  File \u001b[0;32m\"<ipython-input-1-841fae561513>\"\u001b[0;36m, line \u001b[0;32m22\u001b[0m\n\u001b[0;31m    if Channel == 1\u001b[0m\n\u001b[0m                   ^\u001b[0m\n\u001b[0;31mSyntaxError\u001b[0m\u001b[0;31m:\u001b[0m expected ':'\n"
          ]
        }
      ]
    },
    {
      "cell_type": "code",
      "source": [
        "import numpy as np\n",
        "c1 = [1,1,1,1]\n",
        "c2 = [1,-1,1,-1]\n",
        "c3 = [1,1,-1,-1]\n",
        "c4 = [1,-1,-1,1]\n",
        "rc=[]\n",
        "print(\"Enter the data bits: \")\n",
        "d1 = int(input(\"Enter D1: \"))\n",
        "d2 = int(input(\"Enter D2 : \"))\n",
        "d3 = int(input(\"Enter D3 : \"))\n",
        "d4 = int(input(\"Enter D4 : \"))\n",
        "r1 = np.multiply(c1,d1)\n",
        "r2 = np.multiply(c2,d2)\n",
        "r3 = np.multiply(c3,d3)\n",
        "r4 = np.multiply(c4,d4)\n",
        "resultant_channel = r1 + r2 + r3 + r4;\n",
        "print(\"Resultant Channel: \", resultant_channel)\n",
        "Channel = int(input(\"Enter the station to listen for C1=1, C2=2, C3=3, C4=4 : \"))\n",
        "if Channel == 1:\n",
        " rc=c1\n",
        "elif Channel==2:\n",
        " rc=c2\n",
        "elif Channel==3:\n",
        " rc=c3\n",
        "elif Channel==4:\n",
        " rc=c4\n",
        "inner_product=np.multiply(resultant_channel,rc)\n",
        "print(\"Inner Product\", inner_product)\n",
        "res1 = sum(inner_product)\n",
        "data=res1/len(inner_product)\n",
        "print(\"Data bit that was sent\",data)"
      ],
      "metadata": {
        "colab": {
          "base_uri": "https://localhost:8080/"
        },
        "id": "mj19BkSvjgAS",
        "outputId": "9aa611ac-f8ca-4980-d695-98e1f29485f4"
      },
      "execution_count": null,
      "outputs": [
        {
          "output_type": "stream",
          "name": "stdout",
          "text": [
            "Enter the data bits: \n",
            "Enter D1: -1\n",
            "Enter D2 : 1\n",
            "Enter D3 : -1\n",
            "Enter D4 : 1\n",
            "Resultant Channel:  [ 0 -4  0  0]\n",
            "Enter the station to listen for C1=1, C2=2, C3=3, C4=4 : 1\n",
            "Inner Product [ 0 -4  0  0]\n",
            "Data bit that was sent -1.0\n"
          ]
        }
      ]
    }
  ]
}